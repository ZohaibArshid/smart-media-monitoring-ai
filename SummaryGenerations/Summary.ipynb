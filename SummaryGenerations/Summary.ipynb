{
 "cells": [
  {
   "cell_type": "code",
   "execution_count": 8,
   "id": "7377a4ea-e58c-47fa-add0-25dbac507669",
   "metadata": {},
   "outputs": [
    {
     "name": "stdout",
     "output_type": "stream",
     "text": [
      "\n",
      "===================================BUG REPORT===================================\n",
      "Welcome to bitsandbytes. For bug reports, please submit your error trace to: https://github.com/TimDettmers/bitsandbytes/issues\n",
      "================================================================================\n",
      "CUDA SETUP: CUDA runtime path found: C:\\Program Files\\NVIDIA GPU Computing Toolkit\\CUDA\\v11.2\\bin\\cudart64_110.dll\n",
      "CUDA SETUP: Highest compute capability among GPUs detected: 8.9\n",
      "CUDA SETUP: Detected CUDA version 112\n",
      "CUDA SETUP: Loading binary C:\\Users\\MWaqar\\AppData\\Roaming\\Python\\Python311\\site-packages\\bitsandbytes\\libbitsandbytes_cuda112.dll...\n"
     ]
    },
    {
     "name": "stderr",
     "output_type": "stream",
     "text": [
      "C:\\Users\\MWaqar\\AppData\\Roaming\\Python\\Python311\\site-packages\\bitsandbytes\\cuda_setup\\main.py:141: UserWarning: WARNING: The following directories listed in your path were found to be non-existent: {WindowsPath('D:/ProgramData/anaconda3/envs/aoanet/bin')}\n",
      "  warn(msg)\n",
      "C:\\Users\\MWaqar\\AppData\\Roaming\\Python\\Python311\\site-packages\\bitsandbytes\\cuda_setup\\main.py:141: UserWarning: WARNING: The following directories listed in your path were found to be non-existent: {WindowsPath('D:/ProgramData/anaconda3/envs/aoanet/lib')}\n",
      "  warn(msg)\n",
      "C:\\Users\\MWaqar\\AppData\\Roaming\\Python\\Python311\\site-packages\\bitsandbytes\\cuda_setup\\main.py:141: UserWarning: D:\\ProgramData\\anaconda3\\envs\\aoanet did not contain cudart64_110.dll as expected! Searching further paths...\n",
      "  warn(msg)\n"
     ]
    }
   ],
   "source": [
    "import torch\n",
    "from transformers import LlamaTokenizer, LlamaForCausalLM\n",
    "\n",
    "# model_path = 'openlm-research/open_llama_3b'\n",
    "model_path = 'openlm-research/open_llama_7b'\n",
    "\n"
   ]
  },
  {
   "cell_type": "code",
   "execution_count": null,
   "id": "0413b2c6-f407-4503-a286-206cb1e1b5e4",
   "metadata": {},
   "outputs": [],
   "source": []
  },
  {
   "cell_type": "code",
   "execution_count": 10,
   "id": "f7730cb3-869b-4a74-8e53-be511e90e19d",
   "metadata": {},
   "outputs": [
    {
     "data": {
      "application/vnd.jupyter.widget-view+json": {
       "model_id": "d796207fab804f2891d1f2eaba6e1c00",
       "version_major": 2,
       "version_minor": 0
      },
      "text/plain": [
       "Loading checkpoint shards:   0%|          | 0/2 [00:00<?, ?it/s]"
      ]
     },
     "metadata": {},
     "output_type": "display_data"
    },
    {
     "data": {
      "application/vnd.jupyter.widget-view+json": {
       "model_id": "f5b02ca605f9448a96289bdeb5e6fe4d",
       "version_major": 2,
       "version_minor": 0
      },
      "text/plain": [
       "Downloading (…)neration_config.json:   0%|          | 0.00/137 [00:00<?, ?B/s]"
      ]
     },
     "metadata": {},
     "output_type": "display_data"
    }
   ],
   "source": [
    "# model_path = 'openlm-research/open_llama_13b'\n",
    "output_directory=r\"D:\\Models\\llama2\"\n",
    "tokenizer = LlamaTokenizer.from_pretrained(model_path,cache_dir=output_directory)\n",
    "model = LlamaForCausalLM.from_pretrained(\n",
    "    model_path, torch_dtype=torch.float16, device_map='auto',cache_dir=output_directory\n",
    ")\n",
    "\n"
   ]
  },
  {
   "cell_type": "code",
   "execution_count": null,
   "id": "4b936907-fd07-420a-b4df-18e8f336c33e",
   "metadata": {},
   "outputs": [],
   "source": []
  },
  {
   "cell_type": "code",
   "execution_count": null,
   "id": "d2543058-e091-488a-bdcd-f88a2bd5d0a8",
   "metadata": {},
   "outputs": [],
   "source": [
    "prompt = 'write summary for this text.'\n",
    "input_ids = tokenizer(prompt, return_tensors=\"pt\").input_ids\n",
    "\n",
    "generation_output = model.generate(\n",
    "    input_ids=input_ids, max_new_tokens=32\n",
    ")\n",
    "print(tokenizer.decode(generation_output[0]))"
   ]
  },
  {
   "cell_type": "code",
   "execution_count": 5,
   "id": "2df55645-e1b1-42d3-a2cd-80cf1975af36",
   "metadata": {},
   "outputs": [
    {
     "name": "stdout",
     "output_type": "stream",
     "text": [
      "پاکستان کی تاریخ کو ایک پراگراف میں بیان کرتے ہوئے، 1947ء کی آزادی کی بنیاد پر پیدا ہونے والا پاکستان ایک اہم جنوب ایشیائی ملک ہے۔ اس کی تاریخ میں محمد علی جناح کی قائدیت کا اہم کردار رہا ہے، جنہوں نے مسلمانوں کو ایک علیحدہ وطن کی تخلیق کے لئے قیام دلایا۔ ملک کی تاریخ میں مختلف دور اور اہم واقعات شامل ہیں جیسے 1965ء اور 1971ء کے جنگوں کا واقعہ، اور بنگلہ دیش کی تشکیل کا واقعہ جس نے ملک کی تاریخ کو ایک نیا موڑ دینے والا تجربہ دکھایا۔ پاکستان کی تاریخ میں معاشرتی، سیاسی، اور اقتصادی تبدیلیوں کا سفر رہا ہے جو ملک کی ترقی اور تعمیر کی راہ میں جاری ہے، اور اس کی تاریخی واقعات اور اہم شخصیات ملک کی شناخت میں اہم کردار ادا کرتے ہیں۔خلاصہ لکھیں۔\n",
      "ٹثيٽ؛ 2017 09 30\n",
      "غُـ�\n"
     ]
    }
   ],
   "source": [
    "urdu_text = \"پاکستان کی تاریخ کو ایک پراگراف میں بیان کرتے ہوئے، 1947ء کی آزادی کی بنیاد پر پیدا ہونے والا پاکستان ایک اہم جنوب ایشیائی ملک ہے۔ اس کی تاریخ میں محمد علی جناح کی قائدیت کا اہم کردار رہا ہے، جنہوں نے مسلمانوں کو ایک علیحدہ وطن کی تخلیق کے لئے قیام دلایا۔ ملک کی تاریخ میں مختلف دور اور اہم واقعات شامل ہیں جیسے 1965ء اور 1971ء کے جنگوں کا واقعہ، اور بنگلہ دیش کی تشکیل کا واقعہ جس نے ملک کی تاریخ کو ایک نیا موڑ دینے والا تجربہ دکھایا۔ پاکستان کی تاریخ میں معاشرتی، سیاسی، اور اقتصادی تبدیلیوں کا سفر رہا ہے جو ملک کی ترقی اور تعمیر کی راہ میں جاری ہے، اور اس کی تاریخی واقعات اور اہم شخصیات ملک کی شناخت میں اہم کردار ادا کرتے ہیں۔\"\n",
    "prompt = urdu_text + 'خلاصہ لکھیں۔'\n",
    "input_ids = tokenizer(prompt, return_tensors=\"pt\").input_ids\n",
    "\n",
    "generation_output = model.generate(\n",
    "    input_ids=input_ids, max_new_tokens=30, num_return_sequences=1,\n",
    "    no_repeat_ngram_size=2, top_k=50, top_p=0.95, temperature=0.7\n",
    ")\n",
    "\n",
    "summary = tokenizer.decode(generation_output[0], skip_special_tokens=True)\n",
    "print(summary)\n"
   ]
  },
  {
   "cell_type": "code",
   "execution_count": null,
   "id": "6f84d95c-c668-4727-a0a8-fb9020a0e5ce",
   "metadata": {},
   "outputs": [],
   "source": []
  },
  {
   "cell_type": "code",
   "execution_count": 11,
   "id": "6e3ac813-0960-46ab-ab18-be0fb98c5485",
   "metadata": {},
   "outputs": [],
   "source": [
    "# import easyocr\n",
    "# import cv2\n",
    "\n",
    "# # Initialize the EasyOCR reader for Urdu (You can specify other languages if needed)\n",
    "# reader = easyocr.Reader(['ur'])\n",
    "\n",
    "# # Load the image\n",
    "# image_path = r\"C:\\Users\\MWaqar\\Desktop\\Capture.PNG\"  # Replace with the path to your image\n",
    "# image = cv2.imread(image_path)\n",
    "\n",
    "# # Perform OCR on the image\n",
    "# results = reader.readtext(image)\n",
    "# print(results)\n",
    "# # Iterate through the results to get text and bounding boxes\n",
    "# for (text, box, _) in results:\n",
    "#     # Convert box coordinates to integers\n",
    "#     print(box)\n",
    "#     box = [int(coord) for coord in box]\n",
    "\n",
    "#     # Extract coordinates\n",
    "#     x_min, y_min, x_max, y_max = box\n",
    "\n",
    "#     # Draw a bounding box around the detected text\n",
    "#     cv2.rectangle(image, (x_min, y_min), (x_max, y_max), (0, 255, 0), 2)  # Green rectangle\n",
    "\n",
    "#     # Put the detected text on the image\n",
    "#     cv2.putText(image, text, (x_min, y_min - 10), cv2.FONT_HERSHEY_SIMPLEX, 0.8, (0, 255, 0), 2)  # Green text\n",
    "\n",
    "# # Display the image with bounding boxes\n",
    "# cv2.imshow('Image with Bounding Boxes', image)\n",
    "# cv2.waitKey(0)\n",
    "# cv2.destroyAllWindows()\n"
   ]
  },
  {
   "cell_type": "code",
   "execution_count": null,
   "id": "c85bf382-20ac-45d7-bada-f5f2b8ce3ec4",
   "metadata": {},
   "outputs": [],
   "source": [
    "# !pip install easyocr"
   ]
  },
  {
   "cell_type": "code",
   "execution_count": null,
   "id": "daa5352f-023f-4579-be38-2d63ef6382a9",
   "metadata": {},
   "outputs": [],
   "source": []
  }
 ],
 "metadata": {
  "kernelspec": {
   "display_name": "Python 3 (ipykernel)",
   "language": "python",
   "name": "python3"
  },
  "language_info": {
   "codemirror_mode": {
    "name": "ipython",
    "version": 3
   },
   "file_extension": ".py",
   "mimetype": "text/x-python",
   "name": "python",
   "nbconvert_exporter": "python",
   "pygments_lexer": "ipython3",
   "version": "3.11.4"
  }
 },
 "nbformat": 4,
 "nbformat_minor": 5
}
